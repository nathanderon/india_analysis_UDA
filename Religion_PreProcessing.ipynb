{
 "cells": [
  {
   "cell_type": "code",
   "execution_count": 23,
   "metadata": {},
   "outputs": [],
   "source": [
    "import pandas as pd\n",
    "import numpy as np\n",
    "import re\n",
    "import glob\n",
    "import spacy\n",
    "from datetime import datetime\n",
    "from dateutil.parser import parse"
   ]
  },
  {
   "cell_type": "code",
   "execution_count": 9,
   "metadata": {},
   "outputs": [],
   "source": [
    "#Read in headlines dataset\n",
    "data = pd.read_csv(\"india-news-headlines.csv\")"
   ]
  },
  {
   "cell_type": "code",
   "execution_count": 4,
   "metadata": {},
   "outputs": [],
   "source": [
    "#Split dataset for upload to GitHub\n",
    "india_news_headlines_1 = data.iloc[0:593984, :]\n",
    "india_news_headlines_2 = data.iloc[593984:1187969, :]\n",
    "india_news_headlines_3 = data.iloc[1187969:1781953, :]\n",
    "india_news_headlines_4 = data.iloc[1781953:2375938, :]\n",
    "india_news_headlines_5 = data.iloc[2375938:2969922, :]"
   ]
  },
  {
   "cell_type": "code",
   "execution_count": 5,
   "metadata": {},
   "outputs": [],
   "source": [
    "#Write split data to csv files for upload\n",
    "india_news_headlines_1.to_csv(\"india-news-headlines-1.csv\", index=False)\n",
    "india_news_headlines_2.to_csv(\"india-news-headlines-2.csv\", index=False)\n",
    "india_news_headlines_3.to_csv(\"india-news-headlines-3.csv\", index=False)\n",
    "india_news_headlines_4.to_csv(\"india-news-headlines-4.csv\", index=False)\n",
    "india_news_headlines_5.to_csv(\"india-news-headlines-5.csv\", index=False)"
   ]
  },
  {
   "cell_type": "code",
   "execution_count": 6,
   "metadata": {},
   "outputs": [],
   "source": [
    "#define religious vocabulary for creating religion-related datasets\n",
    "religious_vocab = ['religion', 'religious', 'hindu', 'hinduism',\n",
    "                  'islam', 'muslim', 'christianity', 'christian', 'sikh',\n",
    "                  'sikhism', 'temple', 'mosque', 'church', 'divine', 'god', 'gods',\n",
    "                  'prayer', 'prayers', 'priest', 'clergy', 'imam', 'monk', 'dharma',\n",
    "                  'vedas', 'worship', 'worshippers', 'worshipers' 'worshipper', 'worshiper', 'ayodhya',\n",
    "                   'babri', 'hindutva','lynching','ethnic', 'purity','nationalism', 'nationalist',\n",
    "                   'rss', 'sangh'\n",
    "                  ]"
   ]
  },
  {
   "cell_type": "code",
   "execution_count": 32,
   "metadata": {},
   "outputs": [],
   "source": [
    "#Split headline data on 2014 election into pre and post sets\n",
    "data_pre = data[data['publish_date'] <= 20140501]\n",
    "data_post = data[data[\"publish_date\"] > 20140501]"
   ]
  },
  {
   "cell_type": "code",
   "execution_count": 55,
   "metadata": {},
   "outputs": [],
   "source": [
    "#Generate religious flags for pre- and post-election datasets\n",
    "nlp = spacy.load('en_core_web_sm', disable=['ner', 'parser', 'tagger'])\n",
    "nlp.max_length = 10000000\n",
    "pre_mask = []\n",
    "for headline in np.array(data_pre[\"headline_text\"]):\n",
    "    parsed = nlp(headline)\n",
    "    religious_flag = False\n",
    "    for token in parsed:\n",
    "        if re.match('[a-zA-Z]+$', token.orth_):\n",
    "            token_lemma = token.lemma_.lower()\n",
    "            if token_lemma in religious_vocab:\n",
    "                religious_flag = True\n",
    "    pre_mask.append(religious_flag)\n",
    "        \n",
    "post_mask = []\n",
    "for headline in np.array(data_post[\"headline_text\"]):\n",
    "    parsed = nlp(headline)\n",
    "    religious_flag = False\n",
    "    for token in parsed:\n",
    "        if re.match('[a-zA-Z]+$', token.orth_):\n",
    "            token_lemma = token.lemma_.lower()\n",
    "            if token_lemma in religious_vocab:\n",
    "                religious_flag = True\n",
    "    post_mask.append(religious_flag)"
   ]
  },
  {
   "cell_type": "code",
   "execution_count": 58,
   "metadata": {},
   "outputs": [],
   "source": [
    "#Generate religious datasets\n",
    "pre = pd.Series(pre_mask)\n",
    "religious_pre = data_pre[pre.values]\n",
    "post = pd.Series(post_mask)\n",
    "religious_post = data_post[post.values]"
   ]
  },
  {
   "cell_type": "code",
   "execution_count": 59,
   "metadata": {},
   "outputs": [],
   "source": [
    "#Write religious datasets to csv files\n",
    "religious_pre.to_csv(\"religious_headlines_pre.csv\", index=False)\n",
    "religious_post.to_csv(\"religious_headlines_post.csv\", index=False)"
   ]
  },
  {
   "cell_type": "code",
   "execution_count": 4,
   "metadata": {},
   "outputs": [],
   "source": [
    "#Import parliamentary Q&A dataset\n",
    "li = []\n",
    "\n",
    "for file in glob.glob('./india_analysis_UDA/Parliament_Qs/rajyasabha_questions_and_answers_*.csv'):\n",
    "    data = pd.read_csv(file)\n",
    "    li.append(data)\n",
    "    \n",
    "parliament_qs = pd.concat(li, axis = 0, ignore_index = True)"
   ]
  },
  {
   "cell_type": "code",
   "execution_count": 16,
   "metadata": {},
   "outputs": [],
   "source": [
    "#Apply religion filter to parliamentary dataset\n",
    "nlp = spacy.load('en_core_web_sm', disable=['ner', 'parser', 'tagger'])\n",
    "nlp.max_length = 10000000\n",
    "answer_mask = []\n",
    "for answer in np.array(parliament_qs[\"answer\"]):\n",
    "    parsed = nlp(str(answer))\n",
    "    religious_flag = False\n",
    "    for token in parsed:\n",
    "        if re.match('[a-zA-Z]+$', token.orth_):\n",
    "            token_lemma = token.lemma_.lower()\n",
    "            if token_lemma in religious_vocab:\n",
    "                religious_flag = True\n",
    "    answer_mask.append(religious_flag)"
   ]
  },
  {
   "cell_type": "code",
   "execution_count": 18,
   "metadata": {},
   "outputs": [],
   "source": [
    "#Generate religious parliamentary answer dataset\n",
    "answer_mask = pd.Series(answer_mask)\n",
    "religious_answers = parliament_qs[answer_mask.values]"
   ]
  },
  {
   "cell_type": "code",
   "execution_count": 45,
   "metadata": {},
   "outputs": [],
   "source": [
    "#Split religious parliamentary dataset based on when the new government came into office\n",
    "answers_pre_mask = []\n",
    "for date in religious_answers['answer_date'].to_numpy():\n",
    "    if parse(date) < parse('2014.05.26'):\n",
    "        answers_pre_mask.append(True)\n",
    "    else:\n",
    "        answers_pre_mask.append(False)\n",
    "answers_pre_mask = pd.Series(answers_pre_mask)\n",
    "religious_answers_pre = religious_answers[answers_pre_mask.values]\n",
    "religious_answers_post = religious_answers[~answers_pre_mask.values]\n",
    "religious_answers_pre.to_csv(\"religious_answers_pre.csv\", index=False)\n",
    "religious_answers_post.to_csv(\"religious_answers_post.csv\", index=False)"
   ]
  }
 ],
 "metadata": {
  "kernelspec": {
   "display_name": "Python 3",
   "language": "python",
   "name": "python3"
  },
  "language_info": {
   "codemirror_mode": {
    "name": "ipython",
    "version": 3
   },
   "file_extension": ".py",
   "mimetype": "text/x-python",
   "name": "python",
   "nbconvert_exporter": "python",
   "pygments_lexer": "ipython3",
   "version": "3.6.9"
  }
 },
 "nbformat": 4,
 "nbformat_minor": 2
}
