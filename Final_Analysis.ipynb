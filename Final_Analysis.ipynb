{
 "cells": [
  {
   "cell_type": "code",
   "execution_count": 1,
   "metadata": {},
   "outputs": [],
   "source": [
    "#Import packages\n",
    "import pandas as pd\n",
    "import numpy as np\n",
    "import glob\n",
    "import re\n",
    "import string\n",
    "import codecs\n",
    "import spacy\n",
    "import matplotlib.pyplot as plt\n",
    "from sklearn.manifold import TSNE\n",
    "from dateutil.parser import parse\n",
    "from datetime import datetime\n",
    "from matplotlib_venn import venn2"
   ]
  },
  {
   "cell_type": "code",
   "execution_count": 2,
   "metadata": {},
   "outputs": [],
   "source": [
    "#Code borrowed and adapted from George Chen, Carnegie Mellon University#\n",
    "#Define function to remove punctuation and whitespace, and lowercase all text\n",
    "def makeWordList(str_object):\n",
    "    \n",
    "    corpus_text = str(str_object)\n",
    "    \n",
    "    for c in string.punctuation:\n",
    "        corpus_text = corpus_text.replace(c, \"\")  # -- (1)\n",
    "    \n",
    "    text = re.sub(r'\\S*\\d\\S*','',corpus_text) # -- (2)\n",
    "    text = re.sub(r'[^\\w\\s]','',text)         # -- (3)\n",
    "    \n",
    "    text = text.lower().split()           # -- (4)         \n",
    "    \n",
    "    li = []\n",
    "    for token in text:\n",
    "        li.append(token)\n",
    "\n",
    "    return \" \".join(li)"
   ]
  },
  {
   "cell_type": "markdown",
   "metadata": {},
   "source": [
    "# Data Pre-Processing"
   ]
  },
  {
   "cell_type": "markdown",
   "metadata": {},
   "source": [
    "## Religion Pre-Processing"
   ]
  },
  {
   "cell_type": "code",
   "execution_count": null,
   "metadata": {},
   "outputs": [],
   "source": [
    "#Read in headlines dataset\n",
    "data = pd.read_csv(\"india-news-headlines.csv\")"
   ]
  },
  {
   "cell_type": "code",
   "execution_count": null,
   "metadata": {},
   "outputs": [],
   "source": [
    "#Split dataset for upload to GitHub\n",
    "india_news_headlines_1 = data.iloc[0:593984, :]\n",
    "india_news_headlines_2 = data.iloc[593984:1187969, :]\n",
    "india_news_headlines_3 = data.iloc[1187969:1781953, :]\n",
    "india_news_headlines_4 = data.iloc[1781953:2375938, :]\n",
    "india_news_headlines_5 = data.iloc[2375938:2969922, :]"
   ]
  },
  {
   "cell_type": "code",
   "execution_count": null,
   "metadata": {},
   "outputs": [],
   "source": [
    "#Write split data to csv files for upload\n",
    "india_news_headlines_1.to_csv(\"india-news-headlines-1.csv\", index=False)\n",
    "india_news_headlines_2.to_csv(\"india-news-headlines-2.csv\", index=False)\n",
    "india_news_headlines_3.to_csv(\"india-news-headlines-3.csv\", index=False)\n",
    "india_news_headlines_4.to_csv(\"india-news-headlines-4.csv\", index=False)\n",
    "india_news_headlines_5.to_csv(\"india-news-headlines-5.csv\", index=False)"
   ]
  },
  {
   "cell_type": "code",
   "execution_count": null,
   "metadata": {},
   "outputs": [],
   "source": [
    "#define religious vocabulary for creating religion-related datasets\n",
    "religious_vocab = ['religion', 'religious', 'hindu', 'hinduism',\n",
    "                  'islam', 'muslim', 'christianity', 'christian', 'sikh',\n",
    "                  'sikhism', 'temple', 'mosque', 'church', 'divine', 'god', 'gods',\n",
    "                  'prayer', 'prayers', 'priest', 'clergy', 'imam', 'monk', 'dharma',\n",
    "                  'vedas', 'worship', 'worshippers', 'worshipers' 'worshipper', 'worshiper', 'ayodhya',\n",
    "                   'babri', 'hindutva','lynching','ethnic', 'purity','nationalism', 'nationalist',\n",
    "                   'rss', 'sangh'\n",
    "                  ]"
   ]
  },
  {
   "cell_type": "code",
   "execution_count": null,
   "metadata": {},
   "outputs": [],
   "source": [
    "#Split headline data on 2014 election into pre and post sets\n",
    "data_pre = data[data['publish_date'] <= 20140501]\n",
    "data_post = data[data[\"publish_date\"] > 20140501]"
   ]
  },
  {
   "cell_type": "code",
   "execution_count": null,
   "metadata": {},
   "outputs": [],
   "source": [
    "#Generate religious flags for pre- and post-election datasets\n",
    "nlp = spacy.load('en_core_web_sm', disable=['ner', 'parser', 'tagger'])\n",
    "nlp.max_length = 10000000\n",
    "pre_mask = []\n",
    "for headline in np.array(data_pre[\"headline_text\"]):\n",
    "    parsed = nlp(headline)\n",
    "    religious_flag = False\n",
    "    for token in parsed:\n",
    "        if re.match('[a-zA-Z]+$', token.orth_):\n",
    "            token_lemma = token.lemma_.lower()\n",
    "            if token_lemma in religious_vocab:\n",
    "                religious_flag = True\n",
    "    pre_mask.append(religious_flag)\n",
    "        \n",
    "post_mask = []\n",
    "for headline in np.array(data_post[\"headline_text\"]):\n",
    "    parsed = nlp(headline)\n",
    "    religious_flag = False\n",
    "    for token in parsed:\n",
    "        if re.match('[a-zA-Z]+$', token.orth_):\n",
    "            token_lemma = token.lemma_.lower()\n",
    "            if token_lemma in religious_vocab:\n",
    "                religious_flag = True\n",
    "    post_mask.append(religious_flag)"
   ]
  },
  {
   "cell_type": "code",
   "execution_count": null,
   "metadata": {},
   "outputs": [],
   "source": [
    "#Generate religious datasets\n",
    "pre = pd.Series(pre_mask)\n",
    "religious_pre = data_pre[pre.values]\n",
    "post = pd.Series(post_mask)\n",
    "religious_post = data_post[post.values]"
   ]
  },
  {
   "cell_type": "code",
   "execution_count": null,
   "metadata": {},
   "outputs": [],
   "source": [
    "#Write religious datasets to csv files\n",
    "religious_pre.to_csv(\"religious_headlines_pre.csv\", index=False)\n",
    "religious_post.to_csv(\"religious_headlines_post.csv\", index=False)"
   ]
  },
  {
   "cell_type": "code",
   "execution_count": null,
   "metadata": {},
   "outputs": [],
   "source": [
    "#Import parliamentary Q&A dataset\n",
    "li = []\n",
    "\n",
    "for file in glob.glob('./india_analysis_UDA/Parliament_Qs/rajyasabha_questions_and_answers_*.csv'):\n",
    "    data = pd.read_csv(file)\n",
    "    li.append(data)\n",
    "    \n",
    "parliament_qs = pd.concat(li, axis = 0, ignore_index = True)"
   ]
  },
  {
   "cell_type": "code",
   "execution_count": null,
   "metadata": {},
   "outputs": [],
   "source": [
    "#Apply religion filter to parliamentary dataset\n",
    "nlp = spacy.load('en_core_web_sm', disable=['ner', 'parser', 'tagger'])\n",
    "nlp.max_length = 10000000\n",
    "answer_mask = []\n",
    "for answer in np.array(parliament_qs[\"answer\"]):\n",
    "    parsed = nlp(str(answer))\n",
    "    religious_flag = False\n",
    "    for token in parsed:\n",
    "        if re.match('[a-zA-Z]+$', token.orth_):\n",
    "            token_lemma = token.lemma_.lower()\n",
    "            if token_lemma in religious_vocab:\n",
    "                religious_flag = True\n",
    "    answer_mask.append(religious_flag)"
   ]
  },
  {
   "cell_type": "code",
   "execution_count": null,
   "metadata": {},
   "outputs": [],
   "source": [
    "#Generate religious parliamentary answer dataset\n",
    "answer_mask = pd.Series(answer_mask)\n",
    "religious_answers = parliament_qs[answer_mask.values]"
   ]
  },
  {
   "cell_type": "code",
   "execution_count": null,
   "metadata": {},
   "outputs": [],
   "source": [
    "#Split religious parliamentary dataset based on when the new government came into office\n",
    "answers_pre_mask = []\n",
    "for date in religious_answers['answer_date'].to_numpy():\n",
    "    if parse(date) < parse('2014.05.26'):\n",
    "        answers_pre_mask.append(True)\n",
    "    else:\n",
    "        answers_pre_mask.append(False)\n",
    "answers_pre_mask = pd.Series(answers_pre_mask)\n",
    "religious_answers_pre = religious_answers[answers_pre_mask.values]\n",
    "religious_answers_post = religious_answers[~answers_pre_mask.values]\n",
    "religious_answers_pre.to_csv(\"religious_answers_pre.csv\", index=False)\n",
    "religious_answers_post.to_csv(\"religious_answers_post.csv\", index=False)"
   ]
  },
  {
   "cell_type": "markdown",
   "metadata": {},
   "source": [
    "## Full Datasets Pre-Processing"
   ]
  },
  {
   "cell_type": "code",
   "execution_count": 3,
   "metadata": {},
   "outputs": [],
   "source": [
    "#Create single parliament_qs dataframe with all question data\n",
    "li = []\n",
    "\n",
    "for file in glob.glob('./Parliament_Qs/rajyasabha_questions_and_answers_*.csv'):\n",
    "    data = pd.read_csv(file)\n",
    "    li.append(data)\n",
    "    \n",
    "parliament_qs = pd.concat(li, axis = 0, ignore_index = True)"
   ]
  },
  {
   "cell_type": "code",
   "execution_count": 4,
   "metadata": {},
   "outputs": [],
   "source": [
    "#Process parliamentary answers\n",
    "processed_answers = []\n",
    "\n",
    "for str_object in list(parliament_qs[\"answer\"]):\n",
    "    processed_answers.append(makeWordList(str_object))"
   ]
  },
  {
   "cell_type": "code",
   "execution_count": 5,
   "metadata": {},
   "outputs": [],
   "source": [
    "#Import headlines dataset\n",
    "li = []\n",
    "\n",
    "for file in glob.glob('./india_headlines_data/*.csv'):\n",
    "    data = pd.read_csv(file)\n",
    "    li.append(data)\n",
    "    \n",
    "headlines_raw = pd.concat(li, axis = 0, ignore_index = True)"
   ]
  },
  {
   "cell_type": "code",
   "execution_count": 6,
   "metadata": {},
   "outputs": [],
   "source": [
    "#Process headlines, delete headlines object, sample 10% of processed headlines\n",
    "import random\n",
    "processed_headlines = []\n",
    "random.seed(42)\n",
    "headlines = random.sample(list(headlines_raw[\"headline_text\"]), round(len(headlines_raw)/10))\n",
    "                          \n",
    "for str_object in headlines:\n",
    "    processed_headlines.append(makeWordList(str_object))"
   ]
  },
  {
   "cell_type": "code",
   "execution_count": 7,
   "metadata": {},
   "outputs": [],
   "source": [
    "#Import religious headline pre- and post-election datasets\n",
    "li = []\n",
    "\n",
    "for file in glob.glob('./india_headlines_data_pre/religious*.csv'):\n",
    "    data = pd.read_csv(file)\n",
    "    li.append(data)\n",
    "    \n",
    "religious_headlines_pre = pd.concat(li, axis = 0, ignore_index = True)\n",
    "\n",
    "li = []\n",
    "\n",
    "for file in glob.glob('./india_headlines_data_post/religious*.csv'):\n",
    "    data = pd.read_csv(file)\n",
    "    li.append(data)\n",
    "    \n",
    "religious_headlines_post = pd.concat(li, axis = 0, ignore_index = True)"
   ]
  },
  {
   "cell_type": "code",
   "execution_count": 8,
   "metadata": {},
   "outputs": [],
   "source": [
    "#Process religious headlines\n",
    "processed_religious_headlines_pre = []\n",
    "\n",
    "for str_object in list(religious_headlines_pre[\"headline_text\"]):\n",
    "    processed_religious_headlines_pre.append(makeWordList(str_object))\n",
    "    \n",
    "processed_religious_headlines_post = []\n",
    "\n",
    "for str_object in list(religious_headlines_post[\"headline_text\"]):\n",
    "    processed_religious_headlines_post.append(makeWordList(str_object))"
   ]
  },
  {
   "cell_type": "markdown",
   "metadata": {},
   "source": [
    "# Dataset Description and Exploration"
   ]
  },
  {
   "cell_type": "code",
   "execution_count": 17,
   "metadata": {},
   "outputs": [
    {
     "data": {
      "text/plain": [
       "Text(0, 0.5, 'Quantity')"
      ]
     },
     "execution_count": 17,
     "metadata": {},
     "output_type": "execute_result"
    },
    {
     "data": {
      "image/png": "[encoded data removed]",
      "text/plain": [
       "<Figure size 1440x720 with 1 Axes>"
      ]
     },
     "metadata": {
      "needs_background": "light"
     },
     "output_type": "display_data"
    }
   ],
   "source": [
    "#Process Parliament Q&A dataset, aggregating by month and producing a plot of the date distribution\n",
    "answer_dates = pd.DataFrame(pd.to_datetime(parliament_qs[\"answer_date\"]))\n",
    "final_answer_dates = []\n",
    "for date in answer_dates[\"answer_date\"]:\n",
    "    if isinstance(date, datetime):\n",
    "        final_answer_dates.append([date, 1])\n",
    "final_answer_dates = pd.DataFrame(final_answer_dates)\n",
    "#final_answer_dates.reset_index().set_index(0)\n",
    "\n",
    "plt.figure(figsize=(20,10))\n",
    "agg = final_answer_dates.resample('M', on=0).count()\n",
    "plt.plot(agg, c='blue')\n",
    "election = parse(\"2014-05-01\")\n",
    "plt.axvline(x=election, c='red')\n",
    "plt.title(\"Monthly Parliamentary Questions\", size=22)\n",
    "plt.xlabel(\"Time\", size = 18)\n",
    "plt.ylabel(\"Quantity\", size = 18)"
   ]
  },
  {
   "cell_type": "code",
   "execution_count": 18,
   "metadata": {},
   "outputs": [
    {
     "data": {
      "text/plain": [
       "Text(0, 0.5, 'Quantity')"
      ]
     },
     "execution_count": 18,
     "metadata": {},
     "output_type": "execute_result"
    },
    {
     "data": {
      "image/png": "[encoded data removed]",
      "text/plain": [
       "<Figure size 864x432 with 1 Axes>"
      ]
     },
     "metadata": {
      "needs_background": "light"
     },
     "output_type": "display_data"
    }
   ],
   "source": [
    "#Process headlines dataset, aggregating by month and producing datetime plot\n",
    "headline_dates = pd.DataFrame(pd.to_datetime(headlines_raw[\"publish_date\"]))\n",
    "final_headline_dates = []\n",
    "for date in list(headlines_raw[\"publish_date\"]):\n",
    "    datetime = datetime.strptime(str(date), \"%Y%m%d\")\n",
    "    final_headline_dates.append(datetime)\n",
    "final_headline_dates = pd.DataFrame(final_headline_dates)\n",
    "#plot\n",
    "plt.figure(figsize=(12,6))\n",
    "agg = final_headline_dates.resample('M', on=0).count()\n",
    "plt.plot(agg, c='blue')\n",
    "election = parse(\"2014-05-01\")\n",
    "plt.axvline(x=election, c='red')\n",
    "plt.title(\"Monthly Headlines Published\", size=22)\n",
    "plt.xlabel(\"Time\", size = 18)\n",
    "plt.ylabel(\"Quantity\", size = 18)"
   ]
  },
  {
   "cell_type": "markdown",
   "metadata": {},
   "source": [
    "# Sentiment Analysis on Religion Datasets"
   ]
  },
  {
   "cell_type": "code",
   "execution_count": null,
   "metadata": {},
   "outputs": [],
   "source": []
  },
  {
   "cell_type": "code",
   "execution_count": null,
   "metadata": {},
   "outputs": [],
   "source": []
  },
  {
   "cell_type": "markdown",
   "metadata": {},
   "source": [
    "# Topic Modeling - Religious Headlines"
   ]
  },
  {
   "cell_type": "code",
   "execution_count": 20,
   "metadata": {},
   "outputs": [],
   "source": [
    "#Use TfidfVectorizer to transform religious headlines\n",
    "from sklearn.feature_extraction.text import TfidfVectorizer\n",
    "vectorizer_pre = TfidfVectorizer(min_df=100, stop_words=\"english\", max_df=0.8)\n",
    "rel_headlines_pre_fit = vectorizer_pre.fit(processed_religious_headlines_pre)\n",
    "X_rel_headlines_pre = vectorizer_pre.fit_transform(processed_religious_headlines_pre).toarray()\n",
    "\n",
    "vectorizer_post = TfidfVectorizer(min_df=100, stop_words=\"english\", max_df=0.8)\n",
    "rel_headlines_post_fit = vectorizer_post.fit(processed_religious_headlines_post)\n",
    "X_rel_headlines_post = vectorizer_post.fit_transform(processed_religious_headlines_post).toarray()"
   ]
  },
  {
   "cell_type": "code",
   "execution_count": 21,
   "metadata": {},
   "outputs": [
    {
     "data": {
      "text/plain": [
       "LatentDirichletAllocation(batch_size=128, doc_topic_prior=None,\n",
       "                          evaluate_every=-1, learning_decay=0.7,\n",
       "                          learning_method='online', learning_offset=10.0,\n",
       "                          max_doc_update_iter=100, max_iter=10,\n",
       "                          mean_change_tol=0.001, n_components=10, n_jobs=None,\n",
       "                          perp_tol=0.1, random_state=0, topic_word_prior=None,\n",
       "                          total_samples=1000000.0, verbose=0)"
      ]
     },
     "execution_count": 21,
     "metadata": {},
     "output_type": "execute_result"
    }
   ],
   "source": [
    "#Generate seperate topic models for pre and post\n",
    "num_topics = 10\n",
    "\n",
    "from sklearn.decomposition import LatentDirichletAllocation\n",
    "lda_rel_headlines_pre = LatentDirichletAllocation(n_components=num_topics, learning_method='online', random_state=0)\n",
    "lda_rel_headlines_pre.fit(X_rel_headlines_pre)\n",
    "\n",
    "lda_rel_headlines_post = LatentDirichletAllocation(n_components=num_topics, learning_method='online', random_state=0)\n",
    "lda_rel_headlines_post.fit(X_rel_headlines_post)"
   ]
  },
  {
   "cell_type": "code",
   "execution_count": 22,
   "metadata": {},
   "outputs": [
    {
     "name": "stdout",
     "output_type": "stream",
     "text": [
      "Displaying the top 10 words per topic and their probabilities within the topic for pre-election relgious headlines\n",
      "\n",
      "[Topic 0]\n",
      "gets : 0.3325878908343633\n",
      "vhp : 0.1410741139730405\n",
      "land : 0.09764653418812733\n",
      "rain : 0.07304272493430007\n",
      "women : 0.06716153659901956\n",
      "polls : 0.06155488657925728\n",
      "high : 0.06152229777309942\n",
      "churches : 0.04688881030527306\n",
      "hindus : 0.04190856687229721\n",
      "offer : 0.04053579900361241\n",
      "\n",
      "[Topic 1]\n",
      "monk : 0.09765610426785298\n",
      "babri : 0.08782965075859098\n",
      "gujarat : 0.08167533787612587\n",
      "centre : 0.07756836684415125\n",
      "rss : 0.0736208801311144\n",
      "day : 0.07045636329665927\n",
      "pakistan : 0.06295241149101867\n",
      "body : 0.05652299472458706\n",
      "modi : 0.056406034055761056\n",
      "today : 0.053136787481863235\n",
      "\n",
      "[Topic 2]\n",
      "body : 0.24650077884660038\n",
      "leader : 0.19598466160003897\n",
      "demand : 0.07515014473444322\n",
      "prayer : 0.07069654233678867\n",
      "court : 0.06340698526049049\n",
      "set : 0.0614349715701121\n",
      "christian : 0.05403263248965024\n",
      "new : 0.044979946185935954\n",
      "party : 0.038278258138742534\n",
      "state : 0.03787685008210023\n",
      "\n",
      "[Topic 3]\n",
      "asks : 0.31918242596499513\n",
      "meet : 0.18155867379434945\n",
      "arrested : 0.12690214788176327\n",
      "hc : 0.06845704101900134\n",
      "protest : 0.06276230618962748\n",
      "sikh : 0.06197819841034833\n",
      "quota : 0.04729651622342198\n",
      "verdict : 0.044561498859450016\n",
      "temple : 0.028898009056062598\n",
      "god : 0.028209089615466965\n",
      "\n",
      "[Topic 4]\n",
      "delhi : 0.5191071891445656\n",
      "cops : 0.09726389393121634\n",
      "govt : 0.07179057542441422\n",
      "demolition : 0.05059076099205142\n",
      "religion : 0.03841569682340742\n",
      "poll : 0.03815551890067723\n",
      "issue : 0.03256222521175726\n",
      "singh : 0.027293988099889054\n",
      "mark : 0.026936883948530464\n",
      "near : 0.022859895930397466\n",
      "\n",
      "[Topic 5]\n",
      "riots : 0.12714335344582472\n",
      "sikhs : 0.1091597834540954\n",
      "dead : 0.08626802724445033\n",
      "delhi : 0.08095105452303444\n",
      "devotees : 0.08062051573936894\n",
      "india : 0.07804703257980064\n",
      "security : 0.07257699013912884\n",
      "cong : 0.06746997136589813\n",
      "peace : 0.061250070601403694\n",
      "case : 0.06078109630459727\n",
      "\n",
      "[Topic 6]\n",
      "want : 0.40447147506028114\n",
      "say : 0.0901678825999094\n",
      "religious : 0.08322532336681733\n",
      "dont : 0.07560103232065452\n",
      "help : 0.06527663257809653\n",
      "support : 0.04824974585467745\n",
      "ayodhya : 0.04697002631844126\n",
      "divine : 0.037414784377852776\n",
      "group : 0.033118538046230495\n",
      "priest : 0.0305127680406536\n",
      "\n",
      "[Topic 7]\n",
      "imam : 0.32368457421577085\n",
      "puri : 0.21770924509320477\n",
      "city : 0.07559507109784995\n",
      "killed : 0.059702125466010614\n",
      "banaras : 0.04678099838199114\n",
      "row : 0.04083357629359221\n",
      "blast : 0.035956012082898337\n",
      "chief : 0.03229943102512417\n",
      "leaders : 0.03135421494323203\n",
      "plea : 0.028629309818073694\n",
      "\n",
      "[Topic 8]\n",
      "advani : 0.24871812901025805\n",
      "worship : 0.18081346887935246\n",
      "vote : 0.11925565033241153\n",
      "prayers : 0.08723915423169015\n",
      "seeks : 0.083063158499097\n",
      "hindu : 0.050612738086918435\n",
      "university : 0.039260665642189566\n",
      "police : 0.0345140988009695\n",
      "kerala : 0.030633094350126393\n",
      "gods : 0.029986469215317915\n",
      "\n",
      "[Topic 9]\n",
      "cm : 0.26090489426637037\n",
      "temples : 0.102805553110396\n",
      "begins : 0.0854785817970633\n",
      "cbi : 0.07729637331474787\n",
      "christians : 0.0769337609629199\n",
      "mosque : 0.07286794330711742\n",
      "attacks : 0.054484700966616555\n",
      "law : 0.049216810881430886\n",
      "says : 0.04002257059849445\n",
      "sc : 0.0373645219273359\n",
      "\n",
      "Displaying the top 10 words per topic and their probabilities within the topic for post-election relgious headlines\n",
      "\n",
      "[Topic 0]\n",
      "day : 0.1721195475158337\n",
      "groups : 0.14326782600143304\n",
      "delhi : 0.13139821072351007\n",
      "religion : 0.1158199389668223\n",
      "divine : 0.08116003533924904\n",
      "help : 0.07184304899035786\n",
      "seeks : 0.06482235517446412\n",
      "temple : 0.05470011078496221\n",
      "pakistan : 0.04449579890248008\n",
      "community : 0.04188645468936294\n",
      "\n",
      "[Topic 1]\n",
      "years : 0.1790795455741567\n",
      "priest : 0.13098084936601667\n",
      "leader : 0.12430173675751408\n",
      "babri : 0.10768433612147905\n",
      "city : 0.10557703262375456\n",
      "chief : 0.09146126220407592\n",
      "govt : 0.0722044392797335\n",
      "christians : 0.0704106622116024\n",
      "golden : 0.06959668178764472\n",
      "delhi : 0.04135040243222338\n",
      "\n",
      "[Topic 2]\n",
      "case : 0.5474219160338354\n",
      "visit : 0.07707543308007289\n",
      "polls : 0.06625908350070354\n",
      "seek : 0.05952592870001687\n",
      "sikhs : 0.05842768815120967\n",
      "imam : 0.048612946585720296\n",
      "state : 0.04709252610462787\n",
      "students : 0.04556322768845624\n",
      "christian : 0.04409825043703676\n",
      "ayodhya : 5.984058992491408e-05\n",
      "\n",
      "[Topic 3]\n",
      "babri : 0.6730340477070854\n",
      "mark : 0.04550598031669784\n",
      "hindus : 0.04457033745511793\n",
      "hindutva : 0.04280378278003408\n",
      "lakh : 0.038117799535644814\n",
      "police : 0.03675590258013284\n",
      "say : 0.0293465571312708\n",
      "jain : 0.029327307487272698\n",
      "pak : 0.029003812943190946\n",
      "protest : 0.02831568616317713\n",
      "\n",
      "[Topic 4]\n",
      "cm : 0.24929081230225197\n",
      "quota : 0.2145657574711628\n",
      "high : 0.11515571932383556\n",
      "gandhi : 0.08817678993026679\n",
      "worship : 0.08389489782436652\n",
      "mosque : 0.06799002036513199\n",
      "law : 0.062153216744260234\n",
      "set : 0.06160092602451444\n",
      "women : 0.05099773470871797\n",
      "land : 6.237338065406759e-05\n",
      "\n",
      "[Topic 5]\n",
      "islam : 0.2576340870890133\n",
      "sena : 0.21778264859179894\n",
      "rss : 0.14487911490737526\n",
      "body : 0.1286963398889915\n",
      "modi : 0.09351768466873725\n",
      "temples : 0.08460408046747751\n",
      "congress : 0.06533588719748959\n",
      "kerala : 7.476537495885808e-05\n",
      "india : 7.475997931562032e-05\n",
      "sikh : 7.47592351246926e-05\n",
      "\n",
      "[Topic 6]\n",
      "row : 0.22127045927680897\n",
      "singh : 0.21919102096075688\n",
      "gods : 0.08668398155118187\n",
      "woman : 0.07869512970574248\n",
      "leaders : 0.06821957379525222\n",
      "devotees : 0.06203186758525672\n",
      "says : 0.04346094668710834\n",
      "muslim : 0.042827440785644315\n",
      "hindu : 0.03819218723284426\n",
      "prayers : 0.036552668560663554\n",
      "\n",
      "[Topic 7]\n",
      "dont : 0.36017414496875316\n",
      "monk : 0.12195999545771398\n",
      "muslims : 0.07485500140166183\n",
      "bjp : 0.05738914105007979\n",
      "churches : 0.04813623523529722\n",
      "attack : 0.04676089359119951\n",
      "gets : 0.04631897059001697\n",
      "held : 0.041256255493988564\n",
      "vhp : 0.038569349825447914\n",
      "pm : 0.03742393927899344\n",
      "\n",
      "[Topic 8]\n",
      "probe : 0.1988540219508842\n",
      "rs : 0.17824126211467414\n",
      "kerala : 0.10008784578675664\n",
      "issue : 0.0655837645713886\n",
      "today : 0.0523326351450991\n",
      "ethnic : 0.04704467915375375\n",
      "sc : 0.04401671070375196\n",
      "uk : 0.036986464629802936\n",
      "sangh : 0.03493563844038293\n",
      "murder : 0.02818967854548862\n",
      "\n",
      "[Topic 9]\n",
      "ban : 0.40086805305095036\n",
      "government : 0.12340327815328161\n",
      "indian : 0.12122547207390093\n",
      "meet : 0.0978360908295379\n",
      "minister : 0.06973092762943335\n",
      "church : 0.06747910067169172\n",
      "god : 0.0674505974004829\n",
      "babri : 0.04571688625731762\n",
      "land : 6.290377161368437e-05\n",
      "churches : 6.290280736162082e-05\n",
      "\n"
     ]
    }
   ],
   "source": [
    "#Display top words for topics for pre- and post-election topics\n",
    "words = list(rel_headlines_pre_fit.vocabulary_)\n",
    "topic_word_distributions = np.array([row / row.sum() for row in lda_rel_headlines_pre.components_])\n",
    "num_top_words = 10\n",
    "\n",
    "print('Displaying the top 10 words per topic and their probabilities within the topic for pre-election relgious headlines')\n",
    "print()\n",
    "\n",
    "for topic_idx in range(num_topics):\n",
    "    print('[Topic ', topic_idx, ']', sep='')\n",
    "    sort_indices = np.argsort(-topic_word_distributions[topic_idx])\n",
    "    for rank in range(num_top_words):\n",
    "        word_idx = sort_indices[rank]\n",
    "        print(words[word_idx], ':', topic_word_distributions[topic_idx, word_idx])\n",
    "    print()\n",
    "\n",
    "words = list(rel_headlines_post_fit.vocabulary_)\n",
    "topic_word_distributions = np.array([row / row.sum() for row in lda_rel_headlines_post.components_])\n",
    "num_top_words = 10\n",
    "\n",
    "print('Displaying the top 10 words per topic and their probabilities within the topic for post-election relgious headlines')\n",
    "print()\n",
    "\n",
    "for topic_idx in range(num_topics):\n",
    "    print('[Topic ', topic_idx, ']', sep='')\n",
    "    sort_indices = np.argsort(-topic_word_distributions[topic_idx])\n",
    "    for rank in range(num_top_words):\n",
    "        word_idx = sort_indices[rank]\n",
    "        print(words[word_idx], ':', topic_word_distributions[topic_idx, word_idx])\n",
    "    print()"
   ]
  },
  {
   "cell_type": "markdown",
   "metadata": {},
   "source": [
    "# Topic Modeling - Headlines"
   ]
  },
  {
   "cell_type": "code",
   "execution_count": 23,
   "metadata": {},
   "outputs": [],
   "source": [
    "#Use TfidfVectorizer to transform headlines\n",
    "##Memory intensive##\n",
    "from sklearn.feature_extraction.text import TfidfVectorizer\n",
    "headline_vectorizer = TfidfVectorizer(min_df=200, stop_words=\"english\", max_df=0.8)\n",
    "headlines_fit = headline_vectorizer.fit(processed_headlines)\n",
    "X_headlines = headline_vectorizer.fit_transform(processed_headlines).toarray()"
   ]
  },
  {
   "cell_type": "code",
   "execution_count": 24,
   "metadata": {},
   "outputs": [
    {
     "data": {
      "text/plain": [
       "LatentDirichletAllocation(batch_size=128, doc_topic_prior=None,\n",
       "                          evaluate_every=-1, learning_decay=0.7,\n",
       "                          learning_method='online', learning_offset=10.0,\n",
       "                          max_doc_update_iter=100, max_iter=10,\n",
       "                          mean_change_tol=0.001, n_components=10, n_jobs=None,\n",
       "                          perp_tol=0.1, random_state=0, topic_word_prior=None,\n",
       "                          total_samples=1000000.0, verbose=0)"
      ]
     },
     "execution_count": 24,
     "metadata": {},
     "output_type": "execute_result"
    }
   ],
   "source": [
    "#Generate 10 topics for headlines\n",
    "num_topics = 10\n",
    "\n",
    "from sklearn.decomposition import LatentDirichletAllocation\n",
    "lda_headlines = LatentDirichletAllocation(n_components=num_topics, learning_method='online', random_state=0)\n",
    "lda_headlines.fit(X_headlines)"
   ]
  },
  {
   "cell_type": "code",
   "execution_count": 25,
   "metadata": {},
   "outputs": [
    {
     "name": "stdout",
     "output_type": "stream",
     "text": [
      "Displaying the top 20 words per topic and their probabilities within the topic...\n",
      "\n",
      "[Topic 0]\n",
      "labour : 0.03860330906379886\n",
      "mission : 0.03374031671009788\n",
      "course : 0.032462592063320285\n",
      "cheating : 0.02674135554586314\n",
      "filed : 0.02570318762380012\n",
      "education : 0.01826181535798846\n",
      "cop : 0.017738767759230903\n",
      "scare : 0.014018263958041628\n",
      "chhattisgarh : 0.013574345666579408\n",
      "bar : 0.013280687501206163\n",
      "demolition : 0.013279851005599978\n",
      "special : 0.012612841793144087\n",
      "rescued : 0.012484319189964543\n",
      "nitish : 0.012426966066449644\n",
      "tea : 0.011100287764688058\n",
      "programme : 0.01098458651119928\n",
      "does : 0.010733813709688816\n",
      "seven : 0.010671161737769101\n",
      "district : 0.010573515056109362\n",
      "left : 0.010396358391977568\n",
      "\n",
      "[Topic 1]\n",
      "bollywood : 0.05652672305509811\n",
      "mc : 0.020877611782112865\n",
      "chinese : 0.01951978015539641\n",
      "cell : 0.01862620140313285\n",
      "fuel : 0.018525507570669772\n",
      "common : 0.0182746225720331\n",
      "fears : 0.018235411934387834\n",
      "caught : 0.018131542869644003\n",
      "kochi : 0.017012086919733094\n",
      "trouble : 0.016547194568394756\n",
      "rajnath : 0.016134089512989107\n",
      "pcb : 0.015644805058001872\n",
      "victims : 0.014713646625735328\n",
      "like : 0.01412784409134809\n",
      "maharashtra : 0.013461724967668289\n",
      "contest : 0.012846731581548516\n",
      "nepal : 0.012631162233324224\n",
      "mobile : 0.011792085015522492\n",
      "drivers : 0.010722640700781886\n",
      "soon : 0.010466395636521268\n",
      "\n",
      "[Topic 2]\n",
      "jharkhand : 0.055251359928895634\n",
      "years : 0.03599075911791327\n",
      "nepal : 0.033688461281122864\n",
      "extended : 0.02997444049795326\n",
      "fun : 0.022083075481717694\n",
      "improve : 0.021661434481104202\n",
      "small : 0.02118834296957338\n",
      "long : 0.02072460553727788\n",
      "asks : 0.020401371771194214\n",
      "boycott : 0.0155555559639116\n",
      "panchayat : 0.0151476254990174\n",
      "celebrates : 0.014082913859668988\n",
      "dept : 0.013304784022982985\n",
      "film : 0.013200072153568287\n",
      "makes : 0.012100922266551633\n",
      "continue : 0.012020644309418241\n",
      "friday : 0.011765654613672325\n",
      "claim : 0.011161496444467537\n",
      "katrina : 0.010618920386515164\n",
      "theft : 0.010324571098464705\n",
      "\n",
      "[Topic 3]\n",
      "buildings : 0.06800078517272543\n",
      "scheme : 0.04917474487815168\n",
      "rss : 0.03973805696461748\n",
      "look : 0.02895268937944588\n",
      "ali : 0.01712305113097134\n",
      "administration : 0.0166104450346476\n",
      "singh : 0.01659478801264431\n",
      "industrial : 0.01621522219753681\n",
      "jail : 0.015302214287017762\n",
      "tomorrow : 0.014688612860199625\n",
      "investors : 0.013755171731921093\n",
      "kin : 0.013474116528986939\n",
      "parents : 0.013429612072855831\n",
      "rights : 0.012806930386053381\n",
      "monsoon : 0.012343465345177478\n",
      "hold : 0.012221895891156877\n",
      "tackle : 0.012064754274103758\n",
      "pics : 0.011991092672528823\n",
      "ministry : 0.011877120272978143\n",
      "maoists : 0.011452528992728557\n",
      "\n",
      "[Topic 4]\n",
      "release : 0.04360621294294105\n",
      "inside : 0.03414299527793981\n",
      "attacked : 0.03150263701557244\n",
      "harassment : 0.02339837338809184\n",
      "problems : 0.021948066835225377\n",
      "steel : 0.016536643931746146\n",
      "photos : 0.01485718437622983\n",
      "supreme : 0.014355986192179827\n",
      "theatre : 0.013181693301407237\n",
      "jaipur : 0.013139056282036536\n",
      "keeps : 0.013124051282363273\n",
      "vehicles : 0.013107195820683657\n",
      "head : 0.012311491669844198\n",
      "nda : 0.012252297591884965\n",
      "flat : 0.0118832057018387\n",
      "roads : 0.011317517997282903\n",
      "narendra : 0.011090396107473534\n",
      "extra : 0.010940340044937037\n",
      "treatment : 0.010905068403292008\n",
      "jharkhand : 0.010812306720812086\n",
      "\n",
      "[Topic 5]\n",
      "turn : 0.03433462592442295\n",
      "higher : 0.032536272046133685\n",
      "week : 0.03205882675072191\n",
      "companies : 0.02940898070205907\n",
      "fall : 0.02206351963952968\n",
      "things : 0.0200809237732601\n",
      "boy : 0.019838269378052206\n",
      "builders : 0.019764934195305596\n",
      "grand : 0.018013831062081192\n",
      "ground : 0.017377184996352407\n",
      "draw : 0.016988242761443496\n",
      "january : 0.015871556968357618\n",
      "goa : 0.015429848728902809\n",
      "hyderabad : 0.013866689614226164\n",
      "asia : 0.012974838131550755\n",
      "victim : 0.012538916572709204\n",
      "sell : 0.012403893314182624\n",
      "private : 0.012206507852073258\n",
      "duo : 0.012190888297138594\n",
      "cabinet : 0.01173189168576701\n",
      "\n",
      "[Topic 6]\n",
      "cool : 0.028517561734664167\n",
      "quits : 0.027221875217268366\n",
      "getting : 0.02635653446884795\n",
      "phone : 0.02315175729112852\n",
      "rbi : 0.022298864071834915\n",
      "parliament : 0.02010383047046077\n",
      "busted : 0.017550960242662835\n",
      "solar : 0.01725186238443246\n",
      "save : 0.016498580100627224\n",
      "escape : 0.015396452105634605\n",
      "key : 0.013394904739368125\n",
      "tv : 0.013274795725019006\n",
      "areas : 0.013115839009155804\n",
      "flu : 0.013023647870515227\n",
      "deaths : 0.012794804878391807\n",
      "rahul : 0.01252761727759609\n",
      "girls : 0.011921505897605126\n",
      "gears : 0.011512293043428382\n",
      "taken : 0.011287464355143419\n",
      "campus : 0.010637642553336749\n",
      "\n",
      "[Topic 7]\n",
      "telangana : 0.03314667263013821\n",
      "award : 0.029980084304023547\n",
      "hunt : 0.029255679785209928\n",
      "exam : 0.027718525390860952\n",
      "roll : 0.02395691651396087\n",
      "trying : 0.021926253271452777\n",
      "names : 0.021438804122905147\n",
      "oil : 0.021234590894291784\n",
      "debut : 0.019364755485469908\n",
      "nri : 0.018694471419408477\n",
      "accident : 0.01626836888679577\n",
      "brings : 0.016027763675015367\n",
      "avoid : 0.01582646793342025\n",
      "double : 0.01563584444624714\n",
      "failed : 0.014369200094683583\n",
      "international : 0.014135321728219779\n",
      "srk : 0.014017165484328784\n",
      "management : 0.013713205651295596\n",
      "details : 0.013058461858061695\n",
      "sena : 0.012770472773527218\n",
      "\n",
      "[Topic 8]\n",
      "official : 0.026551332935362503\n",
      "lift : 0.02241211085917245\n",
      "space : 0.020653707982723434\n",
      "launched : 0.019807879454650856\n",
      "modi : 0.019145338241935306\n",
      "crore : 0.018389984229272537\n",
      "assam : 0.016761503630385748\n",
      "prime : 0.015582072377491471\n",
      "pm : 0.01543368222449356\n",
      "killing : 0.013800255673658432\n",
      "dam : 0.013716923235659264\n",
      "hotel : 0.01364314708396633\n",
      "bodies : 0.01312660851248101\n",
      "services : 0.012691052650743648\n",
      "sparks : 0.01260121580710714\n",
      "leads : 0.011991069132978031\n",
      "got : 0.011577868522581925\n",
      "pressure : 0.011300439438601102\n",
      "today : 0.011144403164028096\n",
      "raids : 0.011012081716548995\n",
      "\n",
      "[Topic 9]\n",
      "courts : 0.04133147480119388\n",
      "diesel : 0.02970682249571218\n",
      "marks : 0.02454509748669973\n",
      "ministers : 0.01651001975368271\n",
      "prices : 0.016117700973804713\n",
      "game : 0.015989491711399968\n",
      "parties : 0.01584358605929998\n",
      "president : 0.01564022864279222\n",
      "crash : 0.014558989955177227\n",
      "level : 0.014127343108277362\n",
      "law : 0.013701492248204758\n",
      "noida : 0.0134535109475193\n",
      "lack : 0.013253961329314886\n",
      "trial : 0.012383452072188404\n",
      "punjab : 0.012276885625382596\n",
      "asian : 0.012147216729257613\n",
      "push : 0.011993183554499012\n",
      "youth : 0.011915972439169345\n",
      "nagar : 0.011172089863704469\n",
      "lands : 0.01111373704284349\n",
      "\n"
     ]
    }
   ],
   "source": [
    "#View top 20 words for each topic in order to characterize\n",
    "words = list(headlines_fit.vocabulary_)\n",
    "topic_word_distributions = np.array([row / row.sum() for row in lda_headlines.components_])\n",
    "num_top_words = 20\n",
    "\n",
    "print('Displaying the top 20 words per topic and their probabilities within the topic...')\n",
    "print()\n",
    "\n",
    "for topic_idx in range(num_topics):\n",
    "    print('[Topic ', topic_idx, ']', sep='')\n",
    "    sort_indices = np.argsort(-topic_word_distributions[topic_idx])\n",
    "    for rank in range(num_top_words):\n",
    "        word_idx = sort_indices[rank]\n",
    "        print(words[word_idx], ':', topic_word_distributions[topic_idx, word_idx])\n",
    "    print()"
   ]
  },
  {
   "cell_type": "markdown",
   "metadata": {},
   "source": [
    "# Applying Headlines Topics to Parliament Data"
   ]
  },
  {
   "cell_type": "code",
   "execution_count": 26,
   "metadata": {},
   "outputs": [],
   "source": [
    "#Remove words in parliament data that don't exist within headlines data\n",
    "nlp = spacy.load('en_core_web_sm', disable=['ner', 'parser', 'tagger'])\n",
    "nlp.max_length = 10000000\n",
    "processed_answers_for_headline_topics = []\n",
    "out_of_topics_mask = []\n",
    "in_topics_mask = []\n",
    "for answer in np.array(parliament_qs[\"answer\"]):\n",
    "    parsed = nlp(str(answer))\n",
    "    processed_answer_list = []\n",
    "    out_of_topics_count = 0\n",
    "    in_topics_count = 0\n",
    "    for token in parsed:\n",
    "        if re.match('[a-zA-Z]+$', token.orth_):\n",
    "            token_lemma = token.lemma_.lower()\n",
    "            if token_lemma in headlines_fit.vocabulary_:\n",
    "                processed_answer_list.append(token_lemma)\n",
    "                in_topics_count += 1\n",
    "            else:\n",
    "                out_of_topics_count += 1\n",
    "    processed_answer_str = \" \".join(processed_answer_list)\n",
    "    processed_answers_for_headline_topics.append(processed_answer_str)\n",
    "    out_of_topics_mask.append(out_of_topics_count)\n",
    "    in_topics_mask.append(in_topics_count)"
   ]
  },
  {
   "cell_type": "code",
   "execution_count": 27,
   "metadata": {},
   "outputs": [],
   "source": [
    "#Transform the parliamentary answers using the vectorizer used for the headlines\n",
    "X_answers_for_headline_topics = headline_vectorizer.transform(processed_answers_for_headline_topics[:10000]).toarray()"
   ]
  },
  {
   "cell_type": "code",
   "execution_count": 28,
   "metadata": {},
   "outputs": [],
   "source": [
    "#Generate topic distributions for the headlines to the parliamentary answers\n",
    "answers_distribution_of_headline_topics = lda_headlines.transform(X_answers_for_headline_topics)"
   ]
  },
  {
   "cell_type": "code",
   "execution_count": 29,
   "metadata": {},
   "outputs": [
    {
     "data": {
      "image/png": "[encoded data removed]",
      "text/plain": [
       "<Figure size 432x288 with 1 Axes>"
      ]
     },
     "metadata": {},
     "output_type": "display_data"
    }
   ],
   "source": [
    "#Sum amount explained per topic, normalize, and plot\n",
    "sum_explained_per_topic = []\n",
    "for i in range(num_topics):\n",
    "    sum_explained_per_topic.append(sum(answers_distribution_of_headline_topics[:,i]))\n",
    "per_explained_per_topic = []\n",
    "for i in range(num_topics):\n",
    "    x = sum_explained_per_topic[i]/sum(sum_explained_per_topic)\n",
    "    per_explained_per_topic.append(x)\n",
    "#plot\n",
    "plt.bar(range(10), per_explained_per_topic, facecolor='blue', alpha=0.5)\n",
    "plt.xlabel('Topic')\n",
    "plt.ylabel('Percent Explained')\n",
    "labs = ('Growth', 'Crisis', \"Local Gov't\", 'Investment', 'Crime', 'Development', 'Financial', '', 'Infrastructure', 'Politics')\n",
    "plt.xticks(np.arange(10), labs, color='orange', rotation=60, fontweight='bold', fontsize='17', horizontalalignment='right')\n",
    "plt.title('Amount of Parliamentary Answers Explained by Each Headline Topic')\n",
    "plt.show()"
   ]
  },
  {
   "cell_type": "code",
   "execution_count": 31,
   "metadata": {},
   "outputs": [
    {
     "name": "stdout",
     "output_type": "stream",
     "text": [
      "3495 908 535\n"
     ]
    },
    {
     "data": {
      "image/png": "[encoded data removed]",
      "text/plain": [
       "<Figure size 432x288 with 1 Axes>"
      ]
     },
     "metadata": {},
     "output_type": "display_data"
    }
   ],
   "source": [
    "#Visualize the amount of words unique to each dataset and shared among the datasets\n",
    "in_both = 0\n",
    "in_answers_only = 0\n",
    "in_headlines_only = 0\n",
    "\n",
    "#Use TfidfVectorizer to transform parliamentary answers\n",
    "from sklearn.feature_extraction.text import TfidfVectorizer\n",
    "vectorizer = TfidfVectorizer(min_df=200, stop_words=\"english\", max_df=0.8)\n",
    "answers_fit = vectorizer.fit(processed_answers)\n",
    "X_answers = vectorizer.fit_transform(processed_answers).toarray()\n",
    "\n",
    "for word in answers_fit.vocabulary_:\n",
    "    if word in headlines_fit.vocabulary_:\n",
    "        in_both += 1\n",
    "    else:\n",
    "        in_answers_only += 1\n",
    "for word in headlines_fit.vocabulary_:\n",
    "    if word not in answers_fit.vocabulary_:\n",
    "        in_headlines_only += 1\n",
    "print(in_answers_only, in_both, in_headlines_only)\n",
    "venn2(subsets = (in_answers_only, in_headlines_only, in_both), set_labels = (\"Unique Words in Answers\", \"Unique Words in Headlines\"),\n",
    "      set_colors=('purple', 'skyblue'), alpha = 0.7);"
   ]
  },
  {
   "cell_type": "code",
   "execution_count": 32,
   "metadata": {},
   "outputs": [
    {
     "data": {
      "image/png": "[encoded data removed]",
      "text/plain": [
       "<Figure size 432x288 with 1 Axes>"
      ]
     },
     "metadata": {
      "needs_background": "light"
     },
     "output_type": "display_data"
    }
   ],
   "source": [
    "#Plot topic distribution for the headlines dataset itself to establish baseline\n",
    "X_headlines_sample = X_headlines[np.random.choice(X_headlines.shape[0], 10000, replace=False)]\n",
    "headline_topic_distribution = lda_headlines.transform(X_headlines_sample)\n",
    "\n",
    "sum_explained_per_topic = []\n",
    "for i in range(num_topics):\n",
    "    sum_explained_per_topic.append(sum(headline_topic_distribution[:,i]))\n",
    "per_explained_per_topic = []\n",
    "for i in range(num_topics):\n",
    "    x = sum_explained_per_topic[i]/sum(sum_explained_per_topic)\n",
    "    per_explained_per_topic.append(x)\n",
    "\n",
    "plt.bar(range(10), per_explained_per_topic, facecolor='blue', alpha=0.5)\n",
    "plt.xlabel('Topic')\n",
    "plt.ylabel('Percent Explained')\n",
    "plt.title('Headline Topics')\n",
    "plt.show()"
   ]
  },
  {
   "cell_type": "code",
   "execution_count": null,
   "metadata": {},
   "outputs": [],
   "source": []
  }
 ],
 "metadata": {
  "kernelspec": {
   "display_name": "Python 3",
   "language": "python",
   "name": "python3"
  },
  "language_info": {
   "codemirror_mode": {
    "name": "ipython",
    "version": 3
   },
   "file_extension": ".py",
   "mimetype": "text/x-python",
   "name": "python",
   "nbconvert_exporter": "python",
   "pygments_lexer": "ipython3",
   "version": "3.6.9"
  }
 },
 "nbformat": 4,
 "nbformat_minor": 4
}
